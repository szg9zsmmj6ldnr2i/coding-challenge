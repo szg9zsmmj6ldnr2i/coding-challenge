{
 "cells": [
  {
   "cell_type": "code",
   "execution_count": 11,
   "metadata": {},
   "outputs": [],
   "source": [
    "import torch\n",
    "from torch.utils.data import Dataset, DataLoader\n",
    "import torchvision\n",
    "import torchvision.transforms as transforms\n",
    "import os\n",
    "from PIL import Image\n",
    "import torch.nn as nn\n",
    "import torch.nn.functional as F"
   ]
  },
  {
   "cell_type": "code",
   "execution_count": 74,
   "metadata": {},
   "outputs": [],
   "source": [
    "class Trainset(Dataset):\n",
    "    def __init__(self, path,device):\n",
    "        self.imgs = []\n",
    "        self.device=device\n",
    "        self.transform = transforms.Compose(\n",
    "            [transforms.ToTensor(),\n",
    "             transforms.Resize((512,512)),\n",
    "             transforms.Normalize((0.5, 0.5, 0.5), (0.5, 0.5, 0.5))])\n",
    "        for root, _, files in os.walk(path):\n",
    "            for file in files:\n",
    "                self.imgs.append(os.path.join(root, file))\n",
    "\n",
    "    def __getitem__(self, index):\n",
    "        x=self.imgs[index]\n",
    "        y=0\n",
    "        if 'dog.' in x:\n",
    "            y=1\n",
    "        image=Image.open(x).convert('RGB')\n",
    "        image=self.transform(image).unsqueeze(0)\n",
    "        image=image.resize(3,512,512)\n",
    "        return image.to(self.device,torch.float),y\n",
    "\n",
    "    def __len__(self):\n",
    "        return len(self.imgs)"
   ]
  },
  {
   "cell_type": "code",
   "execution_count": 155,
   "metadata": {},
   "outputs": [],
   "source": [
    "class Testset(Dataset):\n",
    "    def __init__(self, path,device):\n",
    "        self.imgs = []\n",
    "        self.device=device\n",
    "        self.transform = transforms.Compose(\n",
    "            [transforms.ToTensor(),\n",
    "             transforms.Resize((512,512)),\n",
    "             transforms.Normalize((0.5, 0.5, 0.5), (0.5, 0.5, 0.5))])\n",
    "        for root, _, files in os.walk(path):\n",
    "            for file in files:\n",
    "                self.imgs.append(os.path.join(root, file))\n",
    "\n",
    "    def __getitem__(self, index):\n",
    "        x=self.imgs[index]\n",
    "        image=Image.open(x).convert('RGB')\n",
    "        image=self.transform(image).unsqueeze(0)\n",
    "        id=x.split('/')[-1].split('.')[0]\n",
    "        image=image.resize(3,512,512)\n",
    "        return image.to(self.device,torch.float),id\n",
    "\n",
    "    def __len__(self):\n",
    "        return len(self.imgs)"
   ]
  },
  {
   "cell_type": "code",
   "execution_count": 128,
   "metadata": {},
   "outputs": [],
   "source": [
    "trainset = Trainset('./train/', 'cpu')\n",
    "trainloader = DataLoader(trainset, batch_size=4,\n",
    "                         shuffle=True)\n",
    "\n",
    "\n",
    "class Net(nn.Module):\n",
    "    def __init__(self):\n",
    "        super(Net, self).__init__()\n",
    "        self.conv1 = nn.Conv2d(3, 6, 32)\n",
    "        self.pool = nn.MaxPool2d(2, 2)\n",
    "        self.conv2 = nn.Conv2d(6, 16, 32)\n",
    "        self.fc1 = nn.Linear(692224//4, 120)\n",
    "        self.fc2 = nn.Linear(120, 84)\n",
    "        self.fc3 = nn.Linear(84, 2)\n",
    "\n",
    "    def forward(self, x):\n",
    "        x = self.pool(F.relu(self.conv1(x)))\n",
    "        x = self.pool(F.relu(self.conv2(x)))\n",
    "        x = x.view(-1, 692224//4)\n",
    "        x = F.relu(self.fc1(x))\n",
    "        x = F.relu(self.fc2(x))\n",
    "        x = self.fc3(x)\n",
    "        return x\n",
    "\n",
    "\n",
    "net = Net()"
   ]
  },
  {
   "cell_type": "code",
   "execution_count": 129,
   "metadata": {},
   "outputs": [],
   "source": [
    "import torch.optim as optim\n",
    "\n",
    "criterion = nn.CrossEntropyLoss()\n",
    "optimizer = optim.SGD(net.parameters(), lr=0.001, momentum=0.9)"
   ]
  },
  {
   "cell_type": "code",
   "execution_count": 132,
   "metadata": {
    "scrolled": true
   },
   "outputs": [
    {
     "name": "stderr",
     "output_type": "stream",
     "text": [
      "c:\\python37\\lib\\site-packages\\torch\\_tensor.py:493: UserWarning: non-inplace resize is deprecated\n",
      "  warnings.warn(\"non-inplace resize is deprecated\")\n"
     ]
    },
    {
     "name": "stdout",
     "output_type": "stream",
     "text": [
      "[1,   200] loss: 0.070\n",
      "[1,   400] loss: 0.069\n",
      "[1,   600] loss: 0.069\n",
      "[1,   800] loss: 0.069\n",
      "[1,  1000] loss: 0.069\n",
      "[1,  1200] loss: 0.069\n",
      "[1,  1400] loss: 0.068\n",
      "[1,  1600] loss: 0.067\n",
      "[1,  1800] loss: 0.067\n",
      "[1,  2000] loss: 0.069\n",
      "[1,  2200] loss: 0.067\n",
      "[1,  2400] loss: 0.066\n",
      "[1,  2600] loss: 0.068\n",
      "[1,  2800] loss: 0.067\n",
      "[1,  3000] loss: 0.067\n",
      "[1,  3200] loss: 0.068\n",
      "[1,  3400] loss: 0.067\n",
      "[1,  3600] loss: 0.068\n",
      "[1,  3800] loss: 0.066\n",
      "[1,  4000] loss: 0.068\n",
      "[1,  4200] loss: 0.065\n",
      "[1,  4400] loss: 0.068\n",
      "[1,  4600] loss: 0.065\n",
      "[1,  4800] loss: 0.065\n",
      "[1,  5000] loss: 0.064\n",
      "[1,  5200] loss: 0.065\n",
      "[1,  5400] loss: 0.067\n",
      "[1,  5600] loss: 0.064\n",
      "[1,  5800] loss: 0.065\n",
      "[1,  6000] loss: 0.065\n",
      "[1,  6200] loss: 0.065\n",
      "[2,   200] loss: 0.062\n",
      "[2,   400] loss: 0.063\n",
      "[2,   600] loss: 0.065\n",
      "[2,   800] loss: 0.065\n",
      "[2,  1000] loss: 0.065\n",
      "[2,  1200] loss: 0.063\n",
      "[2,  1400] loss: 0.064\n",
      "[2,  1600] loss: 0.063\n",
      "[2,  1800] loss: 0.067\n",
      "[2,  2000] loss: 0.064\n",
      "[2,  2200] loss: 0.065\n",
      "[2,  2400] loss: 0.064\n",
      "[2,  2600] loss: 0.064\n",
      "[2,  2800] loss: 0.063\n",
      "[2,  3000] loss: 0.063\n",
      "[2,  3200] loss: 0.063\n",
      "[2,  3400] loss: 0.064\n",
      "[2,  3600] loss: 0.068\n",
      "[2,  3800] loss: 0.065\n",
      "[2,  4000] loss: 0.065\n",
      "[2,  4200] loss: 0.063\n",
      "[2,  4400] loss: 0.062\n",
      "[2,  4600] loss: 0.066\n",
      "[2,  4800] loss: 0.061\n",
      "[2,  5000] loss: 0.063\n",
      "[2,  5200] loss: 0.061\n",
      "[2,  5400] loss: 0.064\n",
      "[2,  5600] loss: 0.063\n",
      "[2,  5800] loss: 0.060\n",
      "[2,  6000] loss: 0.063\n",
      "[2,  6200] loss: 0.065\n",
      "Finished Training\n"
     ]
    }
   ],
   "source": [
    "for epoch in range(2):  # loop over the dataset multiple times\n",
    "\n",
    "    running_loss = 0.0\n",
    "    for i, data in enumerate(trainloader, 0):\n",
    "        # get the inputs\n",
    "        inputs, labels = data\n",
    "        # zero the parameter gradients\n",
    "        optimizer.zero_grad()\n",
    "\n",
    "        # forward + backward + optimize\n",
    "        outputs = net(inputs)\n",
    "        loss = criterion(outputs, labels)\n",
    "        loss.backward()\n",
    "        optimizer.step()\n",
    "\n",
    "        # print statistics\n",
    "        running_loss += loss.item()\n",
    "        if i % 200 == 199:    # print every 2000 mini-batches\n",
    "            print('[%d, %5d] loss: %.3f' %\n",
    "                  (epoch + 1, i + 1, running_loss / 2000))\n",
    "            running_loss = 0.0\n",
    "\n",
    "print('Finished Training')"
   ]
  },
  {
   "cell_type": "code",
   "execution_count": 133,
   "metadata": {},
   "outputs": [],
   "source": [
    "torch.save(net, './model') "
   ]
  },
  {
   "cell_type": "code",
   "execution_count": 156,
   "metadata": {},
   "outputs": [
    {
     "name": "stderr",
     "output_type": "stream",
     "text": [
      "c:\\python37\\lib\\site-packages\\torch\\_tensor.py:493: UserWarning: non-inplace resize is deprecated\n",
      "  warnings.warn(\"non-inplace resize is deprecated\")\n"
     ]
    }
   ],
   "source": [
    "testset=Testset('./test/', 'cpu')\n",
    "testloader = DataLoader(testset, batch_size=4,shuffle=False)\n",
    "all_outputs=[]\n",
    "all_ids=[]\n",
    "with torch.no_grad():\n",
    "    for data in testloader:\n",
    "        images, ids = data\n",
    "        outputs = net(images)\n",
    "        all_outputs.extend(outputs)\n",
    "        all_ids.extend(ids)"
   ]
  },
  {
   "cell_type": "code",
   "execution_count": 157,
   "metadata": {},
   "outputs": [],
   "source": [
    "import numpy as np\n",
    "all_outputs=[x.numpy() for x in all_outputs]\n",
    "all_outputs=np.array(all_outputs)"
   ]
  },
  {
   "cell_type": "code",
   "execution_count": 158,
   "metadata": {},
   "outputs": [],
   "source": [
    "l=np.argmax(all_outputs,axis=1)"
   ]
  },
  {
   "cell_type": "code",
   "execution_count": 160,
   "metadata": {},
   "outputs": [],
   "source": [
    "f=open('result.csv','w',encoding='utf8')\n",
    "f.write('id,label\\n')\n",
    "for id,label in zip(all_ids,l):\n",
    "    f.write(id+','+str(label)+'\\n')\n",
    "f.close()"
   ]
  },
  {
   "cell_type": "code",
   "execution_count": null,
   "metadata": {},
   "outputs": [],
   "source": []
  }
 ],
 "metadata": {
  "kernelspec": {
   "display_name": "Python 3",
   "language": "python",
   "name": "python3"
  },
  "language_info": {
   "codemirror_mode": {
    "name": "ipython",
    "version": 3
   },
   "file_extension": ".py",
   "mimetype": "text/x-python",
   "name": "python",
   "nbconvert_exporter": "python",
   "pygments_lexer": "ipython3",
   "version": "3.7.9"
  }
 },
 "nbformat": 4,
 "nbformat_minor": 4
}
